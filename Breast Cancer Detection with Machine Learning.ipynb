{
 "cells": [
  {
   "cell_type": "code",
   "execution_count": 5,
   "metadata": {},
   "outputs": [
    {
     "name": "stdout",
     "output_type": "stream",
     "text": [
      "Python: 3.7.4 (default, Aug  9 2019, 18:34:13) [MSC v.1915 64 bit (AMD64)]\n",
      "Numpy:  1.16.5\n",
      "Matplotlib: 3.1.1\n",
      "Pandas:  0.25.1\n",
      "Sklearn: 0.21.3\n"
     ]
    }
   ],
   "source": [
    "import sys\n",
    "import numpy\n",
    "import matplotlib\n",
    "import pandas\n",
    "import sklearn\n",
    "\n",
    "print('Python:',format(sys.version))\n",
    "print('Numpy: ',format(numpy.__version__))\n",
    "print('Matplotlib:',format(matplotlib.__version__))\n",
    "print('Pandas: ',format(pandas.__version__))\n",
    "print('Sklearn:',format(sklearn.__version__))"
   ]
  },
  {
   "cell_type": "code",
   "execution_count": 12,
   "metadata": {},
   "outputs": [],
   "source": [
    "import numpy as np\n",
    "from sklearn import preprocessing\n",
    "from sklearn.model_selection import cross_validate\n",
    "from sklearn.neighbors import KNeighborsClassifier #K nearest Neighbors\n",
    "from sklearn.svm import SVC #Support Vector Machine\n",
    "from sklearn import model_selection #So both of the models could be used at the same time\n",
    "from sklearn.metrics import classification_report, accuracy_score\n",
    "from pandas.plotting import scatter_matrix #For Plotting\n",
    "import matplotlib.pyplot as plt\n",
    "import pandas as pd\n"
   ]
  },
  {
   "cell_type": "code",
   "execution_count": 15,
   "metadata": {},
   "outputs": [],
   "source": [
    "#Loading the Data from UCI reporsitory\n",
    "url=\"https://archive.ics.uci.edu/ml/machine-learning-databases/breast-cancer-wisconsin/breast-cancer-wisconsin.data\"\n",
    "names=['id','clump_thickness','univorm_cell_size','univorm_cell_shape',\n",
    "       'marginal_adhesion','single_epithelial_size','bare_nuclei',\n",
    "       'bland_chromatin','normal_nuclei','mitoses','class']\n",
    "df=pd.read_csv(url,names=names)"
   ]
  },
  {
   "cell_type": "code",
   "execution_count": 19,
   "metadata": {},
   "outputs": [
    {
     "name": "stdout",
     "output_type": "stream",
     "text": [
      "[RangeIndex(start=0, stop=699, step=1), Index(['id', 'clump_thickness', 'univorm_cell_size', 'univorm_cell_shape',\n",
      "       'marginal_adhesion', 'single_epithelial_size', 'bare_nuclei',\n",
      "       'bland_chromatin', 'normal_nuclei', 'mitoses', 'class'],\n",
      "      dtype='object')]\n",
      "(699, 10)\n"
     ]
    }
   ],
   "source": [
    "#Preprocessing the Data \n",
    "df.replace('?',-99999,inplace=True)\n",
    "print(df.axes)\n",
    "\n",
    "#We are dropping the ID column because it couldn't be used for a classifier\n",
    "df.drop(['id'],1,inplace=True)\n",
    "\n",
    "#Printing the shape of the DataFrame\n",
    "print(df.shape)"
   ]
  },
  {
   "cell_type": "code",
   "execution_count": 21,
   "metadata": {},
   "outputs": [
    {
     "name": "stdout",
     "output_type": "stream",
     "text": [
      "clump_thickness           5\n",
      "univorm_cell_size         1\n",
      "univorm_cell_shape        1\n",
      "marginal_adhesion         1\n",
      "single_epithelial_size    2\n",
      "bare_nuclei               1\n",
      "bland_chromatin           3\n",
      "normal_nuclei             1\n",
      "mitoses                   1\n",
      "class                     2\n",
      "Name: 0, dtype: object\n",
      "       clump_thickness  univorm_cell_size  univorm_cell_shape  \\\n",
      "count       699.000000         699.000000          699.000000   \n",
      "mean          4.417740           3.134478            3.207439   \n",
      "std           2.815741           3.051459            2.971913   \n",
      "min           1.000000           1.000000            1.000000   \n",
      "25%           2.000000           1.000000            1.000000   \n",
      "50%           4.000000           1.000000            1.000000   \n",
      "75%           6.000000           5.000000            5.000000   \n",
      "max          10.000000          10.000000           10.000000   \n",
      "\n",
      "       marginal_adhesion  single_epithelial_size  bland_chromatin  \\\n",
      "count         699.000000              699.000000       699.000000   \n",
      "mean            2.806867                3.216023         3.437768   \n",
      "std             2.855379                2.214300         2.438364   \n",
      "min             1.000000                1.000000         1.000000   \n",
      "25%             1.000000                2.000000         2.000000   \n",
      "50%             1.000000                2.000000         3.000000   \n",
      "75%             4.000000                4.000000         5.000000   \n",
      "max            10.000000               10.000000        10.000000   \n",
      "\n",
      "       normal_nuclei     mitoses       class  \n",
      "count     699.000000  699.000000  699.000000  \n",
      "mean        2.866953    1.589413    2.689557  \n",
      "std         3.053634    1.715078    0.951273  \n",
      "min         1.000000    1.000000    2.000000  \n",
      "25%         1.000000    1.000000    2.000000  \n",
      "50%         1.000000    1.000000    2.000000  \n",
      "75%         4.000000    1.000000    4.000000  \n",
      "max        10.000000   10.000000    4.000000  \n"
     ]
    }
   ],
   "source": [
    "#Do Dataset Visualization\n",
    "print(df.loc[0])\n",
    "print(df.describe())"
   ]
  },
  {
   "cell_type": "code",
   "execution_count": null,
   "metadata": {},
   "outputs": [],
   "source": []
  }
 ],
 "metadata": {
  "kernelspec": {
   "display_name": "Python 3",
   "language": "python",
   "name": "python3"
  },
  "language_info": {
   "codemirror_mode": {
    "name": "ipython",
    "version": 3
   },
   "file_extension": ".py",
   "mimetype": "text/x-python",
   "name": "python",
   "nbconvert_exporter": "python",
   "pygments_lexer": "ipython3",
   "version": "3.7.4"
  }
 },
 "nbformat": 4,
 "nbformat_minor": 2
}
